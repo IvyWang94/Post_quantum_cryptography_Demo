{
  "cells": [
    {
      "cell_type": "markdown",
      "source": [
        "# import liboqs-python"
      ],
      "metadata": {
        "id": "yH7qglPOXDbt"
      }
    },
    {
      "cell_type": "markdown",
      "source": [
        "The Open Quantum Safe (OQS) project has the goal of developing and prototyping quantum-resistant cryptography.\n",
        "\n",
        "liboqs-python offers a Python 3 wrapper for the Open Quantum Safe liboqs C library, which is a C library for quantum-resistant cryptographic algorithms."
      ],
      "metadata": {
        "id": "4nbPZRFRXjOi"
      }
    },
    {
      "cell_type": "code",
      "source": [
        "!sudo apt update\n",
        "!sudo apt install cmake ninja-build libssl-dev python3-pip git"
      ],
      "metadata": {
        "colab": {
          "base_uri": "https://localhost:8080/"
        },
        "id": "x0pcJXst2Wqc",
        "outputId": "db6d84cf-3963-4af5-d41c-3b590e01518d"
      },
      "execution_count": 1,
      "outputs": [
        {
          "output_type": "stream",
          "name": "stdout",
          "text": [
            "\u001b[33m\r0% [Working]\u001b[0m\r            \rGet:1 https://cloud.r-project.org/bin/linux/ubuntu jammy-cran40/ InRelease [3,626 B]\n",
            "\u001b[33m\r0% [Connecting to archive.ubuntu.com] [Connecting to security.ubuntu.com (91.18\u001b[0m\u001b[33m\r0% [Connecting to archive.ubuntu.com] [Connecting to security.ubuntu.com (91.18\u001b[0m\r                                                                               \rGet:2 https://developer.download.nvidia.com/compute/cuda/repos/ubuntu2204/x86_64  InRelease [1,581 B]\n",
            "Get:3 http://security.ubuntu.com/ubuntu jammy-security InRelease [110 kB]\n",
            "Hit:4 http://archive.ubuntu.com/ubuntu jammy InRelease\n",
            "Get:5 http://archive.ubuntu.com/ubuntu jammy-updates InRelease [119 kB]\n",
            "Hit:6 http://archive.ubuntu.com/ubuntu jammy-backports InRelease\n",
            "Get:7 https://developer.download.nvidia.com/compute/cuda/repos/ubuntu2204/x86_64  Packages [810 kB]\n",
            "Hit:8 https://ppa.launchpadcontent.net/c2d4u.team/c2d4u4.0+/ubuntu jammy InRelease\n",
            "Hit:9 https://ppa.launchpadcontent.net/deadsnakes/ppa/ubuntu jammy InRelease\n",
            "Hit:10 https://ppa.launchpadcontent.net/graphics-drivers/ppa/ubuntu jammy InRelease\n",
            "Hit:11 https://ppa.launchpadcontent.net/ubuntugis/ppa/ubuntu jammy InRelease\n",
            "Get:12 http://security.ubuntu.com/ubuntu jammy-security/main amd64 Packages [1,695 kB]\n",
            "Get:13 http://archive.ubuntu.com/ubuntu jammy-updates/universe amd64 Packages [1,375 kB]\n",
            "Get:14 http://security.ubuntu.com/ubuntu jammy-security/universe amd64 Packages [1,082 kB]\n",
            "Get:15 http://archive.ubuntu.com/ubuntu jammy-updates/main amd64 Packages [1,975 kB]\n",
            "Fetched 7,172 kB in 2s (2,880 kB/s)\n",
            "Reading package lists... Done\n",
            "Building dependency tree... Done\n",
            "Reading state information... Done\n",
            "45 packages can be upgraded. Run 'apt list --upgradable' to see them.\n",
            "Reading package lists... Done\n",
            "Building dependency tree... Done\n",
            "Reading state information... Done\n",
            "cmake is already the newest version (3.22.1-1ubuntu1.22.04.2).\n",
            "git is already the newest version (1:2.34.1-1ubuntu1.10).\n",
            "libssl-dev is already the newest version (3.0.2-0ubuntu1.15).\n",
            "The following additional packages will be installed:\n",
            "  python3-setuptools python3-wheel\n",
            "Suggested packages:\n",
            "  python-setuptools-doc\n",
            "The following NEW packages will be installed:\n",
            "  ninja-build python3-pip python3-setuptools python3-wheel\n",
            "0 upgraded, 4 newly installed, 0 to remove and 45 not upgraded.\n",
            "Need to get 1,788 kB of archives.\n",
            "After this operation, 9,326 kB of additional disk space will be used.\n",
            "Get:1 http://archive.ubuntu.com/ubuntu jammy/universe amd64 ninja-build amd64 1.10.1-1 [111 kB]\n",
            "Get:2 http://archive.ubuntu.com/ubuntu jammy-updates/main amd64 python3-setuptools all 59.6.0-1.2ubuntu0.22.04.1 [339 kB]\n",
            "Get:3 http://archive.ubuntu.com/ubuntu jammy-updates/universe amd64 python3-wheel all 0.37.1-2ubuntu0.22.04.1 [32.0 kB]\n",
            "Get:4 http://archive.ubuntu.com/ubuntu jammy-updates/universe amd64 python3-pip all 22.0.2+dfsg-1ubuntu0.4 [1,305 kB]\n",
            "Fetched 1,788 kB in 1s (2,534 kB/s)\n",
            "debconf: unable to initialize frontend: Dialog\n",
            "debconf: (No usable dialog-like program is installed, so the dialog based frontend cannot be used. at /usr/share/perl5/Debconf/FrontEnd/Dialog.pm line 78, <> line 4.)\n",
            "debconf: falling back to frontend: Readline\n",
            "debconf: unable to initialize frontend: Readline\n",
            "debconf: (This frontend requires a controlling tty.)\n",
            "debconf: falling back to frontend: Teletype\n",
            "dpkg-preconfigure: unable to re-open stdin: \n",
            "Selecting previously unselected package ninja-build.\n",
            "(Reading database ... 121752 files and directories currently installed.)\n",
            "Preparing to unpack .../ninja-build_1.10.1-1_amd64.deb ...\n",
            "Unpacking ninja-build (1.10.1-1) ...\n",
            "Selecting previously unselected package python3-setuptools.\n",
            "Preparing to unpack .../python3-setuptools_59.6.0-1.2ubuntu0.22.04.1_all.deb ...\n",
            "Unpacking python3-setuptools (59.6.0-1.2ubuntu0.22.04.1) ...\n",
            "Selecting previously unselected package python3-wheel.\n",
            "Preparing to unpack .../python3-wheel_0.37.1-2ubuntu0.22.04.1_all.deb ...\n",
            "Unpacking python3-wheel (0.37.1-2ubuntu0.22.04.1) ...\n",
            "Selecting previously unselected package python3-pip.\n",
            "Preparing to unpack .../python3-pip_22.0.2+dfsg-1ubuntu0.4_all.deb ...\n",
            "Unpacking python3-pip (22.0.2+dfsg-1ubuntu0.4) ...\n",
            "Setting up python3-setuptools (59.6.0-1.2ubuntu0.22.04.1) ...\n",
            "Setting up python3-wheel (0.37.1-2ubuntu0.22.04.1) ...\n",
            "Setting up ninja-build (1.10.1-1) ...\n",
            "Setting up python3-pip (22.0.2+dfsg-1ubuntu0.4) ...\n",
            "Processing triggers for man-db (2.10.2-1) ...\n"
          ]
        }
      ]
    },
    {
      "cell_type": "code",
      "source": [
        "!git clone --branch main --single-branch https://github.com/open-quantum-safe/liboqs\n",
        "%cd liboqs\n",
        "!mkdir build\n",
        "%cd build\n",
        "!cmake -GNinja -DCMAKE_INSTALL_PREFIX=install -DBUILD_SHARED_LIBS=ON ..\n",
        "!ninja\n",
        "!ninja install\n",
        "%cd ../.."
      ],
      "metadata": {
        "colab": {
          "base_uri": "https://localhost:8080/"
        },
        "id": "NGFYk0IS3rEG",
        "outputId": "a260bedc-b755-4028-9aa0-f1d40db1aa72"
      },
      "execution_count": 2,
      "outputs": [
        {
          "output_type": "stream",
          "name": "stdout",
          "text": [
            "Cloning into 'liboqs'...\n",
            "remote: Enumerating objects: 27838, done.\u001b[K\n",
            "remote: Counting objects: 100% (335/335), done.\u001b[K\n",
            "remote: Compressing objects: 100% (218/218), done.\u001b[K\n",
            "remote: Total 27838 (delta 153), reused 227 (delta 114), pack-reused 27503\u001b[K\n",
            "Receiving objects: 100% (27838/27838), 114.26 MiB | 21.61 MiB/s, done.\n",
            "Resolving deltas: 100% (20616/20616), done.\n",
            "/content/liboqs\n",
            "/content/liboqs/build\n",
            "-- The C compiler identification is GNU 11.4.0\n",
            "-- The ASM compiler identification is GNU\n",
            "-- Found assembler: /usr/bin/cc\n",
            "-- Detecting C compiler ABI info\n",
            "-- Detecting C compiler ABI info - done\n",
            "-- Check for working C compiler: /usr/bin/cc - skipped\n",
            "-- Detecting C compile features\n",
            "-- Detecting C compile features - done\n",
            "-- Performing Test CC_SUPPORTS_WA_NOEXECSTACK\n",
            "-- Performing Test CC_SUPPORTS_WA_NOEXECSTACK - Success\n",
            "-- Performing Test LD_SUPPORTS_WL_Z_NOEXECSTACK\n",
            "-- Performing Test LD_SUPPORTS_WL_Z_NOEXECSTACK - Success\n",
            "-- Performing Test CMAKE_HAVE_LIBC_PTHREAD\n",
            "-- Performing Test CMAKE_HAVE_LIBC_PTHREAD - Success\n",
            "-- Found Threads: TRUE  \n",
            "-- Alg enablement unchanged\n",
            "-- Found OpenSSL: /usr/lib/x86_64-linux-gnu/libcrypto.so (found suitable version \"3.0.2\", minimum required is \"1.1.1\")  \n",
            "-- Looking for aligned_alloc\n",
            "-- Looking for aligned_alloc - found\n",
            "-- Looking for posix_memalign\n",
            "-- Looking for posix_memalign - found\n",
            "-- Looking for memalign\n",
            "-- Looking for memalign - found\n",
            "-- Looking for explicit_bzero\n",
            "-- Looking for explicit_bzero - found\n",
            "-- Looking for memset_s\n",
            "-- Looking for memset_s - not found\n",
            "-- Could NOT find Doxygen (missing: DOXYGEN_EXECUTABLE) \n",
            "-- Configuring done (2.4s)\n",
            "-- Generating done (0.3s)\n",
            "-- Build files have been written to: /content/liboqs/build\n",
            "[1399/1399] Linking C executable tests/vectors_kem\u001b[K\n",
            "[0/1] Install the project...\u001b[K\n",
            "-- Install configuration: \"\"\n",
            "-- Installing: /content/liboqs/build/install/lib/cmake/liboqs/liboqsConfig.cmake\n",
            "-- Installing: /content/liboqs/build/install/lib/cmake/liboqs/liboqsConfigVersion.cmake\n",
            "-- Installing: /content/liboqs/build/install/lib/pkgconfig/liboqs.pc\n",
            "-- Installing: /content/liboqs/build/install/lib/liboqs.so.0.10.1-dev\n",
            "-- Installing: /content/liboqs/build/install/lib/liboqs.so.5\n",
            "-- Installing: /content/liboqs/build/install/lib/liboqs.so\n",
            "-- Installing: /content/liboqs/build/install/lib/cmake/liboqs/liboqsTargets.cmake\n",
            "-- Installing: /content/liboqs/build/install/lib/cmake/liboqs/liboqsTargets-noconfig.cmake\n",
            "-- Installing: /content/liboqs/build/install/include/oqs/oqs.h\n",
            "-- Installing: /content/liboqs/build/install/include/oqs/common.h\n",
            "-- Installing: /content/liboqs/build/install/include/oqs/rand.h\n",
            "-- Installing: /content/liboqs/build/install/include/oqs/kem.h\n",
            "-- Installing: /content/liboqs/build/install/include/oqs/sig.h\n",
            "-- Installing: /content/liboqs/build/install/include/oqs/kem_bike.h\n",
            "-- Installing: /content/liboqs/build/install/include/oqs/kem_frodokem.h\n",
            "-- Installing: /content/liboqs/build/install/include/oqs/kem_ntruprime.h\n",
            "-- Installing: /content/liboqs/build/install/include/oqs/kem_classic_mceliece.h\n",
            "-- Installing: /content/liboqs/build/install/include/oqs/kem_hqc.h\n",
            "-- Installing: /content/liboqs/build/install/include/oqs/kem_kyber.h\n",
            "-- Installing: /content/liboqs/build/install/include/oqs/kem_ml_kem.h\n",
            "-- Installing: /content/liboqs/build/install/include/oqs/sig_dilithium.h\n",
            "-- Installing: /content/liboqs/build/install/include/oqs/sig_ml_dsa.h\n",
            "-- Installing: /content/liboqs/build/install/include/oqs/sig_falcon.h\n",
            "-- Installing: /content/liboqs/build/install/include/oqs/sig_sphincs.h\n",
            "-- Installing: /content/liboqs/build/install/include/oqs/oqsconfig.h\n",
            "/content\n"
          ]
        }
      ]
    },
    {
      "cell_type": "code",
      "source": [
        "import os\n",
        "install_path = '/content/liboqs/build/install'\n",
        "os.environ['CPATH'] = os.path.join(install_path, 'include')\n",
        "os.environ['LIBRARY_PATH'] = os.path.join(install_path, 'lib')\n",
        "os.environ['LD_LIBRARY_PATH'] = os.path.join(install_path, 'lib')\n",
        "os.environ['PKG_CONFIG_PATH'] = os.path.join(install_path, 'lib/pkgconfig')\n"
      ],
      "metadata": {
        "id": "hidlZX4f23ZM"
      },
      "execution_count": 3,
      "outputs": []
    },
    {
      "cell_type": "code",
      "source": [
        "!git clone --branch main --single-branch https://github.com/open-quantum-safe/liboqs-python\n",
        "%cd liboqs-python\n",
        "!python3 -m pip install .\n",
        "%cd .."
      ],
      "metadata": {
        "colab": {
          "base_uri": "https://localhost:8080/"
        },
        "id": "MmTOSBl94DAC",
        "outputId": "49cd194d-2fc1-48f0-90f0-684e62582848"
      },
      "execution_count": 4,
      "outputs": [
        {
          "output_type": "stream",
          "name": "stdout",
          "text": [
            "Cloning into 'liboqs-python'...\n",
            "remote: Enumerating objects: 663, done.\u001b[K\n",
            "remote: Counting objects: 100% (231/231), done.\u001b[K\n",
            "remote: Compressing objects: 100% (84/84), done.\u001b[K\n",
            "remote: Total 663 (delta 184), reused 159 (delta 146), pack-reused 432\u001b[K\n",
            "Receiving objects: 100% (663/663), 139.94 KiB | 1.52 MiB/s, done.\n",
            "Resolving deltas: 100% (341/341), done.\n",
            "/content/liboqs-python\n",
            "Processing /content/liboqs-python\n",
            "  Installing build dependencies ... \u001b[?25l\u001b[?25hdone\n",
            "  Getting requirements to build wheel ... \u001b[?25l\u001b[?25hdone\n",
            "  Preparing metadata (pyproject.toml) ... \u001b[?25l\u001b[?25hdone\n",
            "Collecting nose2 (from liboqs-python==0.10.0)\n",
            "  Downloading nose2-0.14.1-py3-none-any.whl (205 kB)\n",
            "\u001b[2K     \u001b[90m━━━━━━━━━━━━━━━━━━━━━━━━━━━━━━━━━━━━━━━━\u001b[0m \u001b[32m205.7/205.7 kB\u001b[0m \u001b[31m3.1 MB/s\u001b[0m eta \u001b[36m0:00:00\u001b[0m\n",
            "\u001b[?25hBuilding wheels for collected packages: liboqs-python\n",
            "  Building wheel for liboqs-python (pyproject.toml) ... \u001b[?25l\u001b[?25hdone\n",
            "  Created wheel for liboqs-python: filename=liboqs_python-0.10.0-py3-none-any.whl size=10919 sha256=24e9fef6d497d027b09163438801758534579824d79afcb5e2712ad7195d1ed8\n",
            "  Stored in directory: /root/.cache/pip/wheels/2e/9e/d3/89e7af8c8e68285b455fb709ad56a607f93aa2e334f1b3612c\n",
            "Successfully built liboqs-python\n",
            "Installing collected packages: nose2, liboqs-python\n",
            "Successfully installed liboqs-python-0.10.0 nose2-0.14.1\n",
            "/content\n"
          ]
        }
      ]
    },
    {
      "cell_type": "code",
      "source": [
        "!ls -l /content/liboqs/build/install/lib"
      ],
      "metadata": {
        "colab": {
          "base_uri": "https://localhost:8080/"
        },
        "id": "MnBVKTGe7K5I",
        "outputId": "b34b88aa-6db5-4d78-ca7e-01e433b22978"
      },
      "execution_count": 5,
      "outputs": [
        {
          "output_type": "stream",
          "name": "stdout",
          "text": [
            "total 5228\n",
            "drwxr-xr-x 3 root root    4096 Apr 17 05:43 cmake\n",
            "lrwxrwxrwx 1 root root      11 Apr 17 05:43 liboqs.so -> liboqs.so.5\n",
            "-rw-r--r-- 1 root root 5341280 Apr 17 05:43 liboqs.so.0.10.1-dev\n",
            "lrwxrwxrwx 1 root root      20 Apr 17 05:43 liboqs.so.5 -> liboqs.so.0.10.1-dev\n",
            "drwxr-xr-x 2 root root    4096 Apr 17 05:43 pkgconfig\n"
          ]
        }
      ]
    },
    {
      "cell_type": "code",
      "source": [
        "!sudo ldconfig"
      ],
      "metadata": {
        "colab": {
          "base_uri": "https://localhost:8080/"
        },
        "id": "SyPkyq0L7O44",
        "outputId": "527ad625-1803-472d-aa13-99ee73844a80"
      },
      "execution_count": 6,
      "outputs": [
        {
          "output_type": "stream",
          "name": "stdout",
          "text": [
            "/sbin/ldconfig.real: /usr/local/lib/libtbb.so.12 is not a symbolic link\n",
            "\n",
            "/sbin/ldconfig.real: /usr/local/lib/libtbbmalloc_proxy.so.2 is not a symbolic link\n",
            "\n",
            "/sbin/ldconfig.real: /usr/local/lib/libtbbbind.so.3 is not a symbolic link\n",
            "\n",
            "/sbin/ldconfig.real: /usr/local/lib/libtbbbind_2_0.so.3 is not a symbolic link\n",
            "\n",
            "/sbin/ldconfig.real: /usr/local/lib/libtbbbind_2_5.so.3 is not a symbolic link\n",
            "\n",
            "/sbin/ldconfig.real: /usr/local/lib/libtbbmalloc.so.2 is not a symbolic link\n",
            "\n"
          ]
        }
      ]
    },
    {
      "cell_type": "code",
      "source": [
        "pip install liboqs-python cryptography"
      ],
      "metadata": {
        "colab": {
          "base_uri": "https://localhost:8080/"
        },
        "id": "_GxIoJ3A9QTv",
        "outputId": "8ef03244-1fec-445b-f8a9-d2b0b5c8d631"
      },
      "execution_count": 7,
      "outputs": [
        {
          "output_type": "stream",
          "name": "stdout",
          "text": [
            "Requirement already satisfied: liboqs-python in /usr/local/lib/python3.10/dist-packages (0.10.0)\n",
            "Requirement already satisfied: cryptography in /usr/local/lib/python3.10/dist-packages (42.0.5)\n",
            "Requirement already satisfied: nose2 in /usr/local/lib/python3.10/dist-packages (from liboqs-python) (0.14.1)\n",
            "Requirement already satisfied: cffi>=1.12 in /usr/local/lib/python3.10/dist-packages (from cryptography) (1.16.0)\n",
            "Requirement already satisfied: pycparser in /usr/local/lib/python3.10/dist-packages (from cffi>=1.12->cryptography) (2.22)\n"
          ]
        }
      ]
    },
    {
      "cell_type": "code",
      "source": [
        "import ctypes\n",
        "# Path to the shared library\n",
        "lib_path = '/content/liboqs/build/install/lib/liboqs.so'\n",
        "\n",
        "# Load the library using ctypes\n",
        "ctypes.CDLL(lib_path)"
      ],
      "metadata": {
        "id": "9sWVztXHZsJr",
        "colab": {
          "base_uri": "https://localhost:8080/"
        },
        "outputId": "6fc00a31-c9ac-4693-8dc6-772d715d4087"
      },
      "execution_count": 8,
      "outputs": [
        {
          "output_type": "execute_result",
          "data": {
            "text/plain": [
              "<CDLL '/content/liboqs/build/install/lib/liboqs.so', handle 5597a014f0b0 at 0x7b2aed514bb0>"
            ]
          },
          "metadata": {},
          "execution_count": 8
        }
      ]
    },
    {
      "cell_type": "code",
      "source": [
        "import oqs\n",
        "from cryptography.hazmat.primitives.kdf.hkdf import HKDF\n",
        "from cryptography.hazmat.primitives import hashes\n",
        "from cryptography.hazmat.primitives.ciphers import Cipher, algorithms, modes\n",
        "from cryptography.hazmat.backends import default_backend\n",
        "import os"
      ],
      "metadata": {
        "id": "q7B9SygoYEUa",
        "colab": {
          "base_uri": "https://localhost:8080/"
        },
        "outputId": "329f79c7-cf07-44b0-8911-c058fe7144a3"
      },
      "execution_count": 9,
      "outputs": [
        {
          "output_type": "stream",
          "name": "stderr",
          "text": [
            "/usr/local/lib/python3.10/dist-packages/oqs/oqs.py:161: UserWarning: liboqs version 0.10.1-dev differs from liboqs-python version 0.10.0\n",
            "  warnings.warn(\n"
          ]
        }
      ]
    },
    {
      "cell_type": "markdown",
      "source": [
        "# Use specific quantum-safe algorithm--Kyber512 defines an encryption and decryption demo"
      ],
      "metadata": {
        "id": "chS9h4baYFQK"
      }
    },
    {
      "cell_type": "markdown",
      "source": [
        "The Kyber512 algorithm is often used to implement key exchange or key encapsulation (Key Encapsulation Mechanism, KEM), whose goal is to securely share or generate a symmetric key between two parties. Once this symmetric key is securely established, it can be used for various symmetric encryption operations, such as encryption and decryption of data using AES."
      ],
      "metadata": {
        "id": "uMHcDBNBHsVv"
      }
    },
    {
      "cell_type": "code",
      "source": [
        "# Initialize the library with a specific quantum-safe algorithm\n",
        "kem = oqs.KeyEncapsulation('Kyber512')\n",
        "kem"
      ],
      "metadata": {
        "id": "5fJpufjYPfg9",
        "colab": {
          "base_uri": "https://localhost:8080/"
        },
        "outputId": "73485e37-aa3e-4a95-de47-986b9061bd02"
      },
      "execution_count": 10,
      "outputs": [
        {
          "output_type": "execute_result",
          "data": {
            "text/plain": [
              "Key encapsulation mechanism: Kyber512"
            ]
          },
          "metadata": {},
          "execution_count": 10
        }
      ]
    },
    {
      "cell_type": "code",
      "source": [
        "# Generate a key pair and unpack it\n",
        "keypair = kem.generate_keypair()\n",
        "public_key = keypair[0]\n",
        "secret_key = keypair[1]\n",
        "print(public_key)\n",
        "print(secret_key)"
      ],
      "metadata": {
        "colab": {
          "base_uri": "https://localhost:8080/"
        },
        "id": "8SfgrfKdYWg6",
        "outputId": "7976a6e6-d4c0-46d9-99c6-ee5e2b22516d"
      },
      "execution_count": 13,
      "outputs": [
        {
          "output_type": "stream",
          "name": "stdout",
          "text": [
            "111\n",
            "251\n"
          ]
        }
      ]
    },
    {
      "cell_type": "code",
      "source": [
        "# Encapsulate a secret using the public key\n",
        "ciphertext, shared_secret_encapsulated = kem.encap_secret(keypair)"
      ],
      "metadata": {
        "id": "b2jaThJ8YjHk"
      },
      "execution_count": 14,
      "outputs": []
    },
    {
      "cell_type": "code",
      "source": [
        "# Decapsulate the secret using the private key\n",
        "shared_secret_decapsulated = kem.decap_secret(ciphertext)"
      ],
      "metadata": {
        "id": "zPqKLLpZYsFw"
      },
      "execution_count": 16,
      "outputs": []
    },
    {
      "cell_type": "markdown",
      "source": [
        "A key derivation function (KDF, like HKDF) uses as input a shared secret key obtained from a post-quantum key exchange mechanism such as Kyber512 to generate a symmetric key suitable for AES encryption. This key is then used in AES-GCM mode, a mode that provides both encryption and authentication, ensuring data confidentiality and integrity. This approach, which uses a combination of post-quantum key exchange and classical symmetric cryptography, is a common practice in building so-called \"hybrid cryptosystems\" with the goal of improving overall system security."
      ],
      "metadata": {
        "id": "ijtjIxDxH5dH"
      }
    },
    {
      "cell_type": "code",
      "source": [
        "# Use the shared secret to derive a key for AES encryption\n",
        "kdf = HKDF(algorithm=hashes.SHA256(), length=32, salt=None, info=b'handshake data', backend=default_backend())\n",
        "aes_key = kdf.derive(shared_secret_encapsulated)"
      ],
      "metadata": {
        "id": "mtjg-XAyYvJ8"
      },
      "execution_count": 17,
      "outputs": []
    },
    {
      "cell_type": "code",
      "source": [
        "# Encrypt a message using AES-GCM\n",
        "message = b\"Hello, quantum world!\"\n",
        "iv = os.urandom(12)  # Generate a random IV\n",
        "encryptor = Cipher(algorithms.AES(aes_key), modes.GCM(iv), backend=default_backend()).encryptor()\n",
        "ciphertext = encryptor.update(message) + encryptor.finalize()\n",
        "print(\"message:\", message)\n",
        "print(\"ciphertext:\", ciphertext)\n"
      ],
      "metadata": {
        "colab": {
          "base_uri": "https://localhost:8080/"
        },
        "id": "Z4NAbmHVY0Bk",
        "outputId": "696d778c-b1f5-46e3-8af7-be2f14eab97a"
      },
      "execution_count": 18,
      "outputs": [
        {
          "output_type": "stream",
          "name": "stdout",
          "text": [
            "message: b'Hello, quantum world!'\n",
            "ciphertext: b'1\\xa7/\\xdc\\xd4\\x8f\\xbbWEY\\x9a\\x92\\xd0\\x8cf\\x13<!\\xa9\\xb4]'\n"
          ]
        }
      ]
    },
    {
      "cell_type": "code",
      "source": [
        "# Decrypt the message\n",
        "decryptor = Cipher(algorithms.AES(aes_key), modes.GCM(iv, encryptor.tag), backend=default_backend()).decryptor()\n",
        "decrypted_message = decryptor.update(ciphertext) + decryptor.finalize()\n",
        "print(\"Original message:\", message)\n",
        "print(\"Decrypted message:\", decrypted_message)\n",
        "if message != decrypted_message:\n",
        "  print(\"Decrypted message does not match the original!\")"
      ],
      "metadata": {
        "colab": {
          "base_uri": "https://localhost:8080/"
        },
        "id": "-9HHZNjMY4fg",
        "outputId": "a97731f3-ea00-41e0-cb59-af935cf148f0"
      },
      "execution_count": 19,
      "outputs": [
        {
          "output_type": "stream",
          "name": "stdout",
          "text": [
            "Original message: b'Hello, quantum world!'\n",
            "Decrypted message: b'Hello, quantum world!'\n"
          ]
        }
      ]
    },
    {
      "cell_type": "markdown",
      "source": [
        "# Implement key exchange, encryption and decryption based on RLWE"
      ],
      "metadata": {
        "id": "B7oOJIH3aKcK"
      }
    },
    {
      "cell_type": "markdown",
      "source": [
        "In cryptography, RLWE is used to build various secure communication protocols, such as key exchange, homomorphic encryption, and signature schemes. The following code simulates the RLWE key exchange process between Alice and Bob.\n",
        "\n",
        "The steps to implement this encryption process typically include:\n",
        "\n",
        "\n",
        "\n",
        "1. Alice and Bob each generate their private keys and error entries.\n",
        "2. They use private keys and error terms to generate publicly exchangeable information.\n",
        "3. Use the other party’s public information and your own private key to calculate the shared key.\n",
        "\n",
        "![image.png](data:image/png;base64,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)\n",
        "\n",
        "\n",
        "\n",
        "\n",
        "\n"
      ],
      "metadata": {
        "id": "4n-6A4RY1l3P"
      }
    },
    {
      "cell_type": "code",
      "source": [
        "from numpy.polynomial import Polynomial\n",
        "\n",
        "def poly_mod(p, modulus):\n",
        "   \"\"\"Polynomial modulus operation modulates each coefficient of the polynomial to an integer\"\"\"\n",
        "    # Take modulo each coefficient of the polynomial\n",
        "    return Polynomial([coef % modulus for coef in p])\n",
        "\n",
        "def poly_ring_mod(p, x_n):\n",
        "    \"\"\"Modulo operation on polynomial ring, here use x^n + 1\"\"\"\n",
        "    q, r = divmod(p, x_n)\n",
        "    return r\n",
        "\n",
        "def generate_private_key(n, q):\n",
        "    \"\"\"Generate a private key, here we use random coefficients for simplicity\"\"\"\n",
        "    # It is assumed here that the private key is a low-weight polynomial, so random small integers are used as coefficients\n",
        "    return Polynomial(np.random.randint(-q//2, q//2 + 1, n))\n",
        "\n",
        "def generate_error(n, q):\n",
        "    \"\"\"Generate error item\"\"\"\n",
        "    # To make the error term small enough and make u_A and u_B as equal as possible, correct encryption and decryption can be achieved.\n",
        "    return Polynomial(np.random.randint(-(q//200), q//200, n))\n",
        "\n",
        "def generate_public_key(private_key, a, q, x_n):\n",
        "    \"\"\"Generate public key\"\"\"\n",
        "    # s(x) * a(x) mod q mod x^n + 1\n",
        "    return poly_mod(poly_ring_mod(private_key * a, x_n), q)\n",
        "\n",
        "# Define the parameters of the ring\n",
        "n = 4  # The order of the polynomial, here x^4 + 1\n",
        "q = 257  # Modulus\n",
        "x_n = Polynomial([1] + [0]*(n-1) + [1])  # x^n + 1, here is x^4 + 1\n",
        "\n",
        "#Define the public keys of Alice and Bob\n",
        "a = Polynomial(np.random.randint(0, q, n))\n",
        "\n",
        "# Generate Alice and Bob’s private keys and error items\n",
        "s_A = generate_private_key(n, q)\n",
        "e_A = generate_error(n, q)\n",
        "s_B = generate_private_key(n, q)\n",
        "e_B = generate_error(n, q)\n",
        "\n",
        "def generate_public_key(private_key, a, q, x_n, error):\n",
        "    \"\"\"Generate public key\"\"\"\n",
        "    # s(x) * a(x) + e(x) mod q mod x^n + 1\n",
        "    return poly_mod(poly_ring_mod(private_key * a + error, x_n), q)\n",
        "\n",
        "# Generate public information of Alice and Bob\n",
        "b_A = generate_public_key(s_A, a, q, x_n, e_A)\n",
        "b_B = generate_public_key(s_B, a, q, x_n, e_B)\n",
        "\n",
        "# Display the generated polynomial\n",
        "(s_A, e_A, s_B, e_B, b_A, b_B)\n"
      ],
      "metadata": {
        "colab": {
          "base_uri": "https://localhost:8080/"
        },
        "id": "5T34ArMAyeiB",
        "outputId": "9bcb5d3e-277e-4866-f32c-acb4b97589ab"
      },
      "execution_count": 56,
      "outputs": [
        {
          "output_type": "execute_result",
          "data": {
            "text/plain": [
              "(Polynomial([ 67.,  72., -63., 123.], domain=[-1,  1], window=[-1,  1], symbol='x'),\n",
              " Polynomial([ 0., -1., -1.,  0.], domain=[-1,  1], window=[-1,  1], symbol='x'),\n",
              " Polynomial([ -92.,  -52., -115.,  -19.], domain=[-1,  1], window=[-1,  1], symbol='x'),\n",
              " Polynomial([ 0.,  0.,  0., -1.], domain=[-1,  1], window=[-1,  1], symbol='x'),\n",
              " Polynomial([ 10.,  30., 213., 142.], domain=[-1,  1], window=[-1,  1], symbol='x'),\n",
              " Polynomial([225., 173., 184.,  16.], domain=[-1,  1], window=[-1,  1], symbol='x'))"
            ]
          },
          "metadata": {},
          "execution_count": 56
        }
      ]
    },
    {
      "cell_type": "code",
      "source": [
        "# Alice uses her private key and Bob's public information to calculate the shared secret key\n",
        "u_A = poly_mod(poly_ring_mod(s_A * b_B, x_n), q)\n",
        "\n",
        "# Bob uses his private key and Alice's public information to calculate the shared key\n",
        "u_B = poly_mod(poly_ring_mod(s_B * b_A, x_n), q)\n",
        "\n",
        "# Display calculation results\n",
        "(u_A, u_B)\n"
      ],
      "metadata": {
        "colab": {
          "base_uri": "https://localhost:8080/"
        },
        "id": "qAz-RMBf3DvI",
        "outputId": "f2ed1c8c-7223-4496-ecc7-e7ab30aa080f"
      },
      "execution_count": 57,
      "outputs": [
        {
          "output_type": "execute_result",
          "data": {
            "text/plain": [
              "(Polynomial([124., 256., 160., 256.], domain=[-1,  1], window=[-1,  1], symbol='x'),\n",
              " Polynomial([175., 135., 181., 233.], domain=[-1,  1], window=[-1,  1], symbol='x'))"
            ]
          },
          "metadata": {},
          "execution_count": 57
        }
      ]
    },
    {
      "cell_type": "markdown",
      "source": [
        "The exchanged key is used below to implement the encryption and decryption process.\n",
        "\n",
        "In a true quantum-resistant encryption system, text is first converted into numbers and then encrypted using a shared key. The specific process is:\n",
        "\n",
        "\n",
        "\n",
        "1. Text encoding: Convert text into numbers, and convert each character into its ASCII code.\n",
        "2. Encryption: Encrypting numbers with a shared key. This can be simplified by adding the coefficient of the shared secret to the numerical representation of the text.\n",
        "\n",
        "3. Decryption: Decryption using the same key is basically the reverse process of encryption."
      ],
      "metadata": {
        "id": "JDDpliEL3r6h"
      }
    },
    {
      "cell_type": "code",
      "source": [
        "# Text encoding: Convert text to a list of ASCII values\n",
        "def encode_text(text):\n",
        "    return [ord(char) for char in text]\n",
        "\n",
        "# Text decoding: Convert a list of ASCII values back to text\n",
        "def decode_text(encoded_text):\n",
        "    return ''.join(chr(number) for number in encoded_text)\n",
        "\n",
        "# Simplified encryption process: add the coefficients of the shared key to the encoded text\n",
        "def encrypt_text(encoded_text, key):\n",
        "    key_coeffs = key.coef.astype(int).tolist()\n",
        "    return [(number + key_coeffs[i % len(key_coeffs)]) % 256 for i, number in enumerate(encoded_text)]\n",
        "\n",
        "# Simplified decryption process: subtract the coefficient of the shared secret from the encrypted text\n",
        "def decrypt_text(encrypted_text, key):\n",
        "    key_coeffs = key.coef.astype(int).tolist()\n",
        "    return [(number - key_coeffs[i % len(key_coeffs)]) % 256 for i, number in enumerate(encrypted_text)]\n",
        "\n",
        "# Text to be encrypted\n",
        "text = \"hello quantum world\"\n",
        "\n",
        "# encode text\n",
        "encoded_text = encode_text(text)\n",
        "\n",
        "# Encrypt text using shared key\n",
        "encrypted_text = encrypt_text(encoded_text, u_A)\n",
        "\n",
        "# Decrypt the text using the shared key\n",
        "decrypted_text = decrypt_text(encrypted_text, u_A)\n",
        "\n",
        "# Decode text\n",
        "decoded_text = decode_text(decrypted_text)\n",
        "\n",
        "# Display the original text, encrypted ASCII value, decrypted ASCII value and decoded text\n",
        "print(\"original_text:\",text)\n",
        "print(\"encoded_text:\",encoded_text)\n",
        "print(\"encrypted_text:\",encrypted_text)\n",
        "print(\"decrypted_text:\",decrypted_text)\n",
        "print(\"decoded_text:\",decoded_text)\n"
      ],
      "metadata": {
        "colab": {
          "base_uri": "https://localhost:8080/"
        },
        "id": "SN6Tm54S3rYP",
        "outputId": "3c3b86bd-82e5-4dcf-9d0b-d5710701a5ef"
      },
      "execution_count": 58,
      "outputs": [
        {
          "output_type": "stream",
          "name": "stdout",
          "text": [
            "original_text: hello quantum world\n",
            "encoded_text: [104, 101, 108, 108, 111, 32, 113, 117, 97, 110, 116, 117, 109, 32, 119, 111, 114, 108, 100]\n",
            "encrypted_text: [228, 101, 12, 108, 235, 32, 17, 117, 221, 110, 20, 117, 233, 32, 23, 111, 238, 108, 4]\n",
            "decrypted_text: [104, 101, 108, 108, 111, 32, 113, 117, 97, 110, 116, 117, 109, 32, 119, 111, 114, 108, 100]\n",
            "decoded_text: hello quantum world\n"
          ]
        }
      ]
    },
    {
      "cell_type": "markdown",
      "source": [
        "# Implement key exchange, encryption and decryption based on NTT"
      ],
      "metadata": {
        "id": "RgHRHOPYFlgb"
      }
    },
    {
      "cell_type": "markdown",
      "source": [
        "The Fourier transform is a core concept in digital signal processing, and the Number Theoretic Transform (NTT) can be regarded as the Discrete Fourier Transform (DFT) defined on integers. The application of NTT in cryptography, especially in RLWE and polynomial multiplication, is very important because it can efficiently calculate polynomial multiplication modulo a certain type of prime number, which is often called \"NTT friendly modulo q\" Prime number\". The basic steps for polynomial multiplication using NTT on polynomial rings are:\n",
        "\n",
        "\n",
        "\n",
        "1. Apply NTT to the coefficients of the polynomial to transform them into the NTT domain.\n",
        "2. In the NTT domain, the dot multiplication (term-by-term multiplication) of polynomials corresponds to the polynomial convolution (polynomial multiplication) in the original domain.\n",
        "3. Apply inverse NTT to transform the product from the NTT domain back to the original domain.\n",
        "\n",
        "Implementing NTT requires that the modulus q is an NTT-friendly prime number, which means that q must satisfy the form q=1+k×2 $^n$, where k is an integer, to ensure that there is a primitive root modulo a power of 2 of q. For example: use modulo 257, which is an NTT-friendly prime number."
      ],
      "metadata": {
        "id": "iDnOHKUq5Kdn"
      }
    },
    {
      "cell_type": "code",
      "source": [
        "import numpy as np\n",
        "from numpy.polynomial import Polynomial\n",
        "\n",
        "def is_power_of_two(n):\n",
        "    return (n & (n - 1) == 0) and n != 0\n",
        "\n",
        "def next_power_of_two(n):\n",
        "    return 1 << (n-1).bit_length()\n",
        "\n",
        "def pad_coefficients(coeffs, size):\n",
        "    return np.pad(coeffs, (0, max(0, size - len(coeffs))), 'constant')\n",
        "\n",
        "def ntt(a, q, n):\n",
        "    \"\"\"Compute the Number Theoretic Transform (NTT) of a polynomial\"\"\"\n",
        "    if not is_power_of_two(n):\n",
        "        raise ValueError(\"NTT length must be a power of two\")\n",
        "\n",
        "    if n == 1:\n",
        "        return a\n",
        "\n",
        "    a0 = ntt(a[:n//2], q, n//2)  # even indices\n",
        "    a1 = ntt(a[n//2:], q, n//2)  # odd indices\n",
        "\n",
        "    zeta = pow(2, (q-1) // n, q)  # n-th root of unity mod q\n",
        "    omega = 1\n",
        "\n",
        "    t = np.zeros(n, dtype=int)\n",
        "    for i in range(n//2):\n",
        "        u = a0[i]\n",
        "        v = a1[i] * omega % q\n",
        "        t[i] = (u + v) % q\n",
        "        t[i + n//2] = (u - v) % q\n",
        "        omega = omega * zeta % q\n",
        "\n",
        "    return t\n",
        "\n",
        "def inv_ntt(t, q, n):\n",
        "    \"\"\"Compute the inverse Number Theoretic Transform (NTT) of a polynomial\"\"\"\n",
        "    t = ntt(t, q, n)  # NTT of the input\n",
        "    n_inv = pow(n, q-2, q)  # Modular inverse of n\n",
        "    return (t * n_inv % q)\n",
        "\n",
        "def correct_ntt_and_inv_ntt_functions():\n",
        "    n = 8\n",
        "    q = 257\n",
        "    coeffs = np.random.randint(0, q, n)\n",
        "\n",
        "    # Ensure length is a power of two\n",
        "    if not is_power_of_two(len(coeffs)):\n",
        "        coeffs = pad_coefficients(coeffs, next_power_of_two(len(coeffs)))\n",
        "\n",
        "    # Compute NTT and inverse NTT\n",
        "    transformed = ntt(coeffs, q, len(coeffs))\n",
        "    inverse_transformed = inv_ntt(transformed, q, len(coeffs))\n",
        "\n",
        "    # Check if the original and the inverse transformed are the same\n",
        "    assert np.allclose(coeffs % q, inverse_transformed)\n",
        "\n",
        "    print(\"Original Coefficients:\", coeffs)\n",
        "    print(\"NTT Transformed:\", transformed)\n",
        "    print(\"Inverse Transformed:\", inverse_transformed)\n",
        "\n",
        "# Test the corrected NTT and inverse NTT\n",
        "correct_ntt_and_inv_ntt_functions()\n"
      ],
      "metadata": {
        "colab": {
          "base_uri": "https://localhost:8080/"
        },
        "id": "E9GZfAgLEFpW",
        "outputId": "ee204787-7451-435b-e8bf-3d4f87364359"
      },
      "execution_count": 67,
      "outputs": [
        {
          "output_type": "stream",
          "name": "stdout",
          "text": [
            "Original Coefficients: [243 243 167 235 161 232 111 250]\n",
            "NTT Transformed: [100 236 116 136 134 142  52   0]\n",
            "Inverse Transformed: [243 243 167 235 161 232 111 250]\n"
          ]
        }
      ]
    },
    {
      "cell_type": "code",
      "source": [
        "# Polynomial operations\n",
        "def poly_mod(p, modulus):\n",
        "    return Polynomial([coef % modulus for coef in p])\n",
        "\n",
        "def generate_private_key(n, q):\n",
        "    return Polynomial(np.random.randint(-q//2, q//2 + 1, n))\n",
        "\n",
        "def generate_error(n, q):\n",
        "    return Polynomial(np.random.randint(-(q//200), q//200 + 1, n))\n",
        "\n",
        "def generate_public_key(private_key, a, q, x_n, error):\n",
        "    private_key_coeffs = private_key.coef.astype(int).tolist()\n",
        "    a_coeffs = a.coef.astype(int).tolist()\n",
        "    error_coeffs = error.coef.astype(int).tolist()\n",
        "\n",
        "    n = len(x_n.coef)\n",
        "    power_of_two = next_power_of_two(n)\n",
        "    private_key_coeffs = pad_coefficients(private_key_coeffs, power_of_two)\n",
        "    a_coeffs = pad_coefficients(a_coeffs, power_of_two)\n",
        "    error_coeffs = pad_coefficients(error_coeffs, power_of_two)\n",
        "\n",
        "    product = ntt(private_key_coeffs, q, power_of_two)\n",
        "    a_product = ntt(a_coeffs, q, power_of_two)\n",
        "    c_ntt = (product * a_product % q + error_coeffs) % q\n",
        "    public_key = inv_ntt(c_ntt, q, power_of_two)\n",
        "\n",
        "    return Polynomial(public_key[:n])\n",
        "\n",
        "# Text encryption and decryption\n",
        "def encrypt_text(encoded_text, key, q, n):\n",
        "    key_ntt = ntt(key.coef.astype(int).tolist(), q, next_power_of_two(n))\n",
        "    encrypted_text = [(number + key_ntt[i % len(key_ntt)]) % 256 for i, number in enumerate(encoded_text)]\n",
        "    return encrypted_text\n",
        "\n",
        "def decrypt_text(encrypted_text, key, q, n):\n",
        "    key_ntt = ntt(key.coef.astype(int).tolist(), q, next_power_of_two(n))\n",
        "    decrypted_text = [(number - key_ntt[i % len(key_ntt)]) % 256 for i, number in enumerate(encrypted_text)]\n",
        "    return decrypted_text\n",
        "\n",
        "\n",
        "n = 4  # Degree of polynomial\n",
        "q = 257  # Modulus\n",
        "x_n = Polynomial([1] + [0]*(n-1) + [1])  # x^n + 1, here n = 4 so it's x^4 + 1\n",
        "a = Polynomial(np.random.randint(0, q, n))\n",
        "\n",
        "s_A = generate_private_key(n, q)\n",
        "e_A = generate_error(n, q)\n",
        "b_A = generate_public_key(s_A, a, q, x_n, e_A)\n",
        "\n",
        "s_B = generate_private_key(n, q)\n",
        "e_B = generate_error(n, q)\n",
        "b_B = generate_public_key(s_B, a, q, x_n, e_B)\n",
        "\n",
        "u_A = generate_public_key(s_A, b_B, q, x_n, e_A)\n",
        "u_B = generate_public_key(s_B, b_A, q, x_n, e_B)\n",
        "\n",
        "text = \"hello quantum world\"\n",
        "encoded_text = encode_text(text)\n",
        "encrypted_text = encrypt_text(encoded_text, u_A, q, n)\n",
        "decrypted_text = decrypt_text(encrypted_text, u_A, q, n)\n",
        "decoded_text = decode_text(decrypted_text)\n",
        "\n",
        "print(\"original_text:\",text)\n",
        "print(\"encoded_text:\",encoded_text)\n",
        "print(\"encrypted_text:\",encrypted_text)\n",
        "print(\"decrypted_text:\",decrypted_text)\n",
        "print(\"decoded_text:\",decoded_text)\n"
      ],
      "metadata": {
        "colab": {
          "base_uri": "https://localhost:8080/"
        },
        "id": "Wd38bxXaEzMg",
        "outputId": "4f2cd2b9-2d14-4d8a-cae9-c95d91a2dd49"
      },
      "execution_count": 70,
      "outputs": [
        {
          "output_type": "stream",
          "name": "stdout",
          "text": [
            "original_text: hello quantum world\n",
            "encoded_text: [104, 101, 108, 108, 111, 32, 113, 117, 97, 110, 116, 117, 109, 32, 119, 111, 114, 108, 100]\n",
            "encrypted_text: [6, 140, 10, 244, 13, 71, 15, 253, 255, 149, 18, 253, 11, 71, 21, 247, 16, 147, 2]\n",
            "decrypted_text: [104, 101, 108, 108, 111, 32, 113, 117, 97, 110, 116, 117, 109, 32, 119, 111, 114, 108, 100]\n",
            "decoded_text: hello quantum world\n"
          ]
        }
      ]
    }
  ],
  "metadata": {
    "kernelspec": {
      "display_name": "Python 3",
      "name": "python3"
    },
    "language_info": {
      "codemirror_mode": {
        "name": "ipython",
        "version": 3
      },
      "file_extension": ".py",
      "mimetype": "text/x-python",
      "name": "python",
      "nbconvert_exporter": "python",
      "pygments_lexer": "ipython3",
      "version": "3.9.13"
    },
    "colab": {
      "provenance": [],
      "collapsed_sections": [
        "yH7qglPOXDbt",
        "chS9h4baYFQK",
        "B7oOJIH3aKcK",
        "RgHRHOPYFlgb"
      ]
    }
  },
  "nbformat": 4,
  "nbformat_minor": 0
}